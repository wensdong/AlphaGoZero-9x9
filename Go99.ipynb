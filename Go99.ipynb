{
 "cells": [
  {
   "cell_type": "code",
   "execution_count": null,
   "metadata": {
    "collapsed": true
   },
   "outputs": [],
   "source": [
    "class Board():\n",
    "\n",
    "    # list of all 8 directions on the board, as (x,y) offsets\n",
    "    __directions = [(1,1),(1,0),(1,-1),(0,-1),(-1,-1),(-1,0),(-1,1),(0,1)]\n",
    "\n",
    "    def __init__(self, n):\n",
    "        \"Set up initial board configuration.\"\n",
    "\n",
    "        self.n = n\n",
    "        # Create the empty board array.\n",
    "        self.pieces = [None]*self.n\n",
    "        for i in range(self.n):\n",
    "            self.pieces[i] = [0]*self.n\n",
    "\n",
    "        \n",
    "\n",
    "    # add [][] indexer syntax to the Board\n",
    "    def __getitem__(self, index): \n",
    "        return self.pieces[index]\n",
    "\n",
    "    def countDiff(self, color):\n",
    "        \"\"\"Counts the # pieces of the given color\n",
    "        (1 for white, -1 for black, 0 for empty spaces)\"\"\"\n",
    "        count = 0\n",
    "        for y in range(self.n):\n",
    "            for x in range(self.n):\n",
    "                if self[x][y]==color:\n",
    "                    count += 1\n",
    "                if self[x][y]==-color:\n",
    "                    count -= 1\n",
    "        return count\n",
    "\n",
    "    def get_legal_moves(self, color):\n",
    "        \"\"\"Returns all the legal moves for the given color.\n",
    "        (1 for white, -1 for black\n",
    "        \"\"\"\n",
    "        moves = set()  # stores the legal moves.\n",
    "\n",
    "        # Get all the empty space \n",
    "        for y in range(self.n):\n",
    "            for x in range(self.n):\n",
    "                if self[x][y]==0:\n",
    "                    newmoves = self.get_moves_for_square((x,y))\n",
    "                    moves.update(newmoves)\n",
    "        return list(moves)\n",
    "\n",
    "    def has_legal_moves(self, color):\n",
    "        for y in range(self.n):\n",
    "            for x in range(self.n):\n",
    "                if self[x][y]==0:\n",
    "                    newmoves = self.get_moves_for_square((x,y))\n",
    "                    if len(newmoves)>0:\n",
    "                        return True\n",
    "        return False\n",
    "\n",
    "    def get_moves_for_square(self, square):\n",
    "        \"\"\"for an empty square, if it is surrounded by opponent pieces, then move is forbidden;\n",
    "        if it connect to other its own pieces, and the connected pieces is surrounded by opponet pieces, \n",
    "        then the move is forbidden; However, if above 2 conditions cause opponent' pieces be killed, \n",
    "        the move is legal\n",
    "        \"\"\"\n",
    "        b = Board(self.n)\n",
    "        (x,y) = square\n",
    "\n",
    "        if b.kill(player, square):\n",
    "            return (x,y)\n",
    "        if b.surrounded(player, square):\n",
    "            return (_,_)\n",
    "        else\n",
    "            return (x, y)\n",
    "\n",
    "    \n",
    "    def kill(self, square):\n",
    "        \n",
    "    def discover_connected(self, player, square)\n",
    "        \"\"\"find connected pieces\n",
    "        \"\"\"\n",
    "        (x, y) = square\n",
    "        collection = []\n",
    "        \n",
    "        if (x, y) = player and (x-1, y) = player:\n",
    "            collection.append((x-1, y))\n",
    "        if (x+1, y) = player:\n",
    "            collection.append(x+1, y)\n",
    "        if (x, y-1) = player:\n",
    "            collection.append(x, y-1)\n",
    "        if (x, y+1) = player:\n",
    "            collection.append(x, y+1)\n",
    "        return collection\n",
    "    \n",
    "    def connected(self, player, square)\n",
    "        \"\"\"return connected pieces\n",
    "        \"\"\"\n",
    "        collection = []\n",
    "        collection.append(square)\n",
    "        for x, y in b.discover_connected(self, player, square):\n",
    "            new = b.discover_connected(self, player, (x,y))\n",
    "            new_collection.append(new)\n",
    "        collection.append(new_collection)\n",
    "    def surrounded(sefl, square)\n",
    "        \n",
    "    def returned_board(self, square):\n",
    "\n",
    "    def execute_move(self, move, color):\n",
    "        \"\"\"Perform the given move on the board; flips pieces as necessary.\n",
    "        color gives the color pf the piece to play (1=white,-1=black)\n",
    "        \"\"\"\n",
    "\n",
    "        #Much like move generation, start at the new piece's square and\n",
    "        #follow it on all 8 directions to look for a piece allowing flipping.\n",
    "\n",
    "        # Add the piece to the empty square.\n",
    "        # print(move)\n",
    "        flips = [flip for direction in self.__directions\n",
    "                      for flip in self._get_flips(move, direction, color)]\n",
    "        assert len(list(flips))>0\n",
    "        for x, y in flips:\n",
    "            #print(self[x][y],color)\n",
    "            self[x][y] = color\n",
    "\n",
    "    def _discover_move(self, origin, direction):\n",
    "        \"\"\" Returns the endpoint for a legal move, starting at the given origin,\n",
    "        moving by the given increment.\"\"\"\n",
    "        x, y = origin\n",
    "        color = self[x][y]\n",
    "        flips = []\n",
    "\n",
    "        for x, y in Board._increment_move(origin, direction, self.n):\n",
    "            if self[x][y] == 0:\n",
    "                if flips:\n",
    "                    # print(\"Found\", x,y)\n",
    "                    return (x, y)\n",
    "                else:\n",
    "                    return None\n",
    "            elif self[x][y] == color:\n",
    "                return None\n",
    "            elif self[x][y] == -color:\n",
    "                # print(\"Flip\",x,y)\n",
    "                flips.append((x, y))\n",
    "\n",
    "    def _get_flips(self, origin, direction, color):\n",
    "        \"\"\" Gets the list of flips for a vertex and direction to use with the\n",
    "        execute_move function \"\"\"\n",
    "        #initialize variables\n",
    "        flips = [origin]\n",
    "\n",
    "        for x, y in Board._increment_move(origin, direction, self.n):\n",
    "            #print(x,y)\n",
    "            if self[x][y] == 0:\n",
    "                return []\n",
    "            if self[x][y] == -color:\n",
    "                flips.append((x, y))\n",
    "            elif self[x][y] == color and len(flips) > 0:\n",
    "                #print(flips)\n",
    "                return flips\n",
    "\n",
    "        return []\n",
    "\n",
    "    @staticmethod\n",
    "    def _increment_move(move, direction, n):\n",
    "        # print(move)\n",
    "        \"\"\" Generator expression for incrementing moves \"\"\"\n",
    "        move = list(map(sum, zip(move, direction)))\n",
    "        #move = (move[0]+direction[0], move[1]+direction[1])\n",
    "        while all(map(lambda x: 0 <= x < n, move)): \n",
    "        #while 0<=move[0] and move[0]<n and 0<=move[1] and move[1]<n:\n",
    "            yield move\n",
    "            move=list(map(sum,zip(move,direction)))\n",
    "            #move = (move[0]+direction[0],move[1]+direction[1])\n"
   ]
  },
  {
   "cell_type": "code",
   "execution_count": null,
   "metadata": {
    "collapsed": true
   },
   "outputs": [],
   "source": []
  },
  {
   "cell_type": "code",
   "execution_count": null,
   "metadata": {
    "collapsed": true
   },
   "outputs": [],
   "source": []
  },
  {
   "cell_type": "code",
   "execution_count": null,
   "metadata": {
    "collapsed": true
   },
   "outputs": [],
   "source": []
  },
  {
   "cell_type": "code",
   "execution_count": null,
   "metadata": {
    "collapsed": true
   },
   "outputs": [],
   "source": []
  },
  {
   "cell_type": "code",
   "execution_count": null,
   "metadata": {
    "collapsed": true
   },
   "outputs": [],
   "source": []
  },
  {
   "cell_type": "code",
   "execution_count": null,
   "metadata": {
    "collapsed": true
   },
   "outputs": [],
   "source": []
  },
  {
   "cell_type": "code",
   "execution_count": null,
   "metadata": {
    "collapsed": true
   },
   "outputs": [],
   "source": []
  },
  {
   "cell_type": "code",
   "execution_count": null,
   "metadata": {
    "collapsed": true
   },
   "outputs": [],
   "source": []
  },
  {
   "cell_type": "code",
   "execution_count": null,
   "metadata": {
    "collapsed": true
   },
   "outputs": [],
   "source": []
  },
  {
   "cell_type": "code",
   "execution_count": null,
   "metadata": {
    "collapsed": true
   },
   "outputs": [],
   "source": []
  },
  {
   "cell_type": "code",
   "execution_count": null,
   "metadata": {
    "collapsed": true
   },
   "outputs": [],
   "source": []
  },
  {
   "cell_type": "code",
   "execution_count": null,
   "metadata": {
    "collapsed": true
   },
   "outputs": [],
   "source": []
  },
  {
   "cell_type": "code",
   "execution_count": null,
   "metadata": {
    "collapsed": true
   },
   "outputs": [],
   "source": []
  },
  {
   "cell_type": "code",
   "execution_count": null,
   "metadata": {
    "collapsed": true
   },
   "outputs": [],
   "source": []
  },
  {
   "cell_type": "code",
   "execution_count": null,
   "metadata": {
    "collapsed": true
   },
   "outputs": [],
   "source": []
  },
  {
   "cell_type": "code",
   "execution_count": null,
   "metadata": {
    "collapsed": true
   },
   "outputs": [],
   "source": []
  },
  {
   "cell_type": "code",
   "execution_count": null,
   "metadata": {
    "collapsed": true
   },
   "outputs": [],
   "source": []
  },
  {
   "cell_type": "code",
   "execution_count": null,
   "metadata": {
    "collapsed": true
   },
   "outputs": [],
   "source": []
  },
  {
   "cell_type": "code",
   "execution_count": null,
   "metadata": {
    "collapsed": true
   },
   "outputs": [],
   "source": []
  },
  {
   "cell_type": "code",
   "execution_count": null,
   "metadata": {
    "collapsed": true
   },
   "outputs": [],
   "source": []
  },
  {
   "cell_type": "code",
   "execution_count": null,
   "metadata": {
    "collapsed": true
   },
   "outputs": [],
   "source": []
  },
  {
   "cell_type": "code",
   "execution_count": null,
   "metadata": {
    "collapsed": true
   },
   "outputs": [],
   "source": []
  },
  {
   "cell_type": "code",
   "execution_count": null,
   "metadata": {
    "collapsed": true
   },
   "outputs": [],
   "source": []
  },
  {
   "cell_type": "code",
   "execution_count": null,
   "metadata": {
    "collapsed": true
   },
   "outputs": [],
   "source": []
  },
  {
   "cell_type": "code",
   "execution_count": null,
   "metadata": {
    "collapsed": true
   },
   "outputs": [],
   "source": []
  },
  {
   "cell_type": "code",
   "execution_count": null,
   "metadata": {
    "collapsed": true
   },
   "outputs": [],
   "source": []
  },
  {
   "cell_type": "code",
   "execution_count": null,
   "metadata": {
    "collapsed": true
   },
   "outputs": [],
   "source": []
  },
  {
   "cell_type": "code",
   "execution_count": null,
   "metadata": {
    "collapsed": true
   },
   "outputs": [],
   "source": []
  },
  {
   "cell_type": "code",
   "execution_count": null,
   "metadata": {
    "collapsed": true
   },
   "outputs": [],
   "source": []
  },
  {
   "cell_type": "code",
   "execution_count": null,
   "metadata": {
    "collapsed": true
   },
   "outputs": [],
   "source": []
  },
  {
   "cell_type": "code",
   "execution_count": null,
   "metadata": {
    "collapsed": true
   },
   "outputs": [],
   "source": []
  },
  {
   "cell_type": "code",
   "execution_count": null,
   "metadata": {
    "collapsed": true
   },
   "outputs": [],
   "source": []
  },
  {
   "cell_type": "code",
   "execution_count": null,
   "metadata": {
    "collapsed": true
   },
   "outputs": [],
   "source": []
  },
  {
   "cell_type": "code",
   "execution_count": null,
   "metadata": {
    "collapsed": true
   },
   "outputs": [],
   "source": []
  },
  {
   "cell_type": "code",
   "execution_count": null,
   "metadata": {
    "collapsed": true
   },
   "outputs": [],
   "source": []
  },
  {
   "cell_type": "code",
   "execution_count": null,
   "metadata": {
    "collapsed": true
   },
   "outputs": [],
   "source": []
  },
  {
   "cell_type": "markdown",
   "metadata": {},
   "source": []
  }
 ],
 "metadata": {
  "anaconda-cloud": {},
  "kernelspec": {
   "display_name": "Python [conda env:anaconda]",
   "language": "python",
   "name": "conda-env-anaconda-py"
  },
  "language_info": {
   "codemirror_mode": {
    "name": "ipython",
    "version": 3
   },
   "file_extension": ".py",
   "mimetype": "text/x-python",
   "name": "python",
   "nbconvert_exporter": "python",
   "pygments_lexer": "ipython3",
   "version": "3.5.5"
  }
 },
 "nbformat": 4,
 "nbformat_minor": 1
}
